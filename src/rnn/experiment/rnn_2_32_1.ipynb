{
 "cells": [
  {
   "cell_type": "code",
   "execution_count": 1,
   "id": "84038fe9",
   "metadata": {},
   "outputs": [
    {
     "name": "stdout",
     "output_type": "stream",
     "text": [
      "Added '/Users/williamglory/Desktop/IF SEM 6/ML/Tubes-2-IF3270/src/rnn' to Python's path\n",
      "/Users/williamglory/Desktop/IF SEM 6/ML/Tubes-2-IF3270/.venv/bin/python\n"
     ]
    }
   ],
   "source": [
    "import os\n",
    "import random\n",
    "import sys\n",
    "import numpy as np\n",
    "import pandas as pd\n",
    "import tensorflow as tf\n",
    "SEED = 42\n",
    "\n",
    "project_root = os.path.abspath(os.path.join(os.getcwd(), '..'))\n",
    "\n",
    "# Tambahkan path tersebut ke daftar pencarian modul Python\n",
    "if project_root not in sys.path:\n",
    "    sys.path.insert(0, project_root)\n",
    "    print(f\"Added '{project_root}' to Python's path\")\n",
    "\n",
    "import sys\n",
    "print(sys.executable)\n",
    "SEED = 42\n",
    "random.seed(SEED)\n",
    "np.random.seed(SEED)\n",
    "tf.random.set_seed(SEED)\n",
    "os.environ['PYTHONHASHSEED'] = str(SEED)\n",
    "os.environ['TF_DETERMINISTIC_OPS'] = '1'\n",
    "os.environ['TF_CUDNN_DETERMINISTIC'] = '1'"
   ]
  },
  {
   "cell_type": "code",
   "execution_count": 2,
   "id": "49ffe352",
   "metadata": {},
   "outputs": [],
   "source": [
    "from preprocessing.text_vectorizer import create_text_vectorizer\n",
    "from util import prepare_dataset\n",
    "\n",
    "\n",
    "\n",
    "train_df = pd.read_csv(\"../dataset/train.csv\") \n",
    "val_df = pd.read_csv(\"../dataset/valid.csv\")\n",
    "\n",
    "vectorizer = create_text_vectorizer(train_df['text'].values)\n",
    "label_map = {'negative': 0, 'neutral': 1, 'positive': 2}\n",
    "train_df['label'] = train_df['label'].map(label_map)\n",
    "val_df['label'] = val_df['label'].map(label_map)\n",
    "train_ds = prepare_dataset(train_df['text'].values, train_df['label'].values, vectorizer)\n",
    "val_ds = prepare_dataset(val_df['text'].values, val_df['label'].values, vectorizer)"
   ]
  },
  {
   "cell_type": "code",
   "execution_count": 3,
   "id": "d0671810",
   "metadata": {},
   "outputs": [
    {
     "name": "stdout",
     "output_type": "stream",
     "text": [
      "Membangun model...\n"
     ]
    },
    {
     "data": {
      "text/html": [
       "<pre style=\"white-space:pre;overflow-x:auto;line-height:normal;font-family:Menlo,'DejaVu Sans Mono',consolas,'Courier New',monospace\"><span style=\"font-weight: bold\">Model: \"functional\"</span>\n",
       "</pre>\n"
      ],
      "text/plain": [
       "\u001b[1mModel: \"functional\"\u001b[0m\n"
      ]
     },
     "metadata": {},
     "output_type": "display_data"
    },
    {
     "data": {
      "text/html": [
       "<pre style=\"white-space:pre;overflow-x:auto;line-height:normal;font-family:Menlo,'DejaVu Sans Mono',consolas,'Courier New',monospace\">┏━━━━━━━━━━━━━━━━━━━━━━━━━━━━━━━━━━━━━━━━━━━━┳━━━━━━━━━━━━━━━━━━━━━━━━━━━━━━━━━┳━━━━━━━━━━━━━━━━━━━┓\n",
       "┃<span style=\"font-weight: bold\"> Layer (type)                               </span>┃<span style=\"font-weight: bold\"> Output Shape                    </span>┃<span style=\"font-weight: bold\">           Param # </span>┃\n",
       "┡━━━━━━━━━━━━━━━━━━━━━━━━━━━━━━━━━━━━━━━━━━━━╇━━━━━━━━━━━━━━━━━━━━━━━━━━━━━━━━━╇━━━━━━━━━━━━━━━━━━━┩\n",
       "│ input_layer (<span style=\"color: #0087ff; text-decoration-color: #0087ff\">InputLayer</span>)                   │ (<span style=\"color: #00d7ff; text-decoration-color: #00d7ff\">None</span>, <span style=\"color: #00af00; text-decoration-color: #00af00\">100</span>)                     │                 <span style=\"color: #00af00; text-decoration-color: #00af00\">0</span> │\n",
       "├────────────────────────────────────────────┼─────────────────────────────────┼───────────────────┤\n",
       "│ embedding (<span style=\"color: #0087ff; text-decoration-color: #0087ff\">Embedding</span>)                      │ (<span style=\"color: #00d7ff; text-decoration-color: #00d7ff\">None</span>, <span style=\"color: #00af00; text-decoration-color: #00af00\">100</span>, <span style=\"color: #00af00; text-decoration-color: #00af00\">128</span>)                │         <span style=\"color: #00af00; text-decoration-color: #00af00\">1,280,000</span> │\n",
       "├────────────────────────────────────────────┼─────────────────────────────────┼───────────────────┤\n",
       "│ bidirectional_1 (<span style=\"color: #0087ff; text-decoration-color: #0087ff\">Bidirectional</span>)            │ (<span style=\"color: #00d7ff; text-decoration-color: #00d7ff\">None</span>, <span style=\"color: #00af00; text-decoration-color: #00af00\">100</span>, <span style=\"color: #00af00; text-decoration-color: #00af00\">64</span>)                 │            <span style=\"color: #00af00; text-decoration-color: #00af00\">10,304</span> │\n",
       "├────────────────────────────────────────────┼─────────────────────────────────┼───────────────────┤\n",
       "│ bidirectional_2 (<span style=\"color: #0087ff; text-decoration-color: #0087ff\">Bidirectional</span>)            │ (<span style=\"color: #00d7ff; text-decoration-color: #00d7ff\">None</span>, <span style=\"color: #00af00; text-decoration-color: #00af00\">64</span>)                      │             <span style=\"color: #00af00; text-decoration-color: #00af00\">6,208</span> │\n",
       "├────────────────────────────────────────────┼─────────────────────────────────┼───────────────────┤\n",
       "│ dropout (<span style=\"color: #0087ff; text-decoration-color: #0087ff\">Dropout</span>)                          │ (<span style=\"color: #00d7ff; text-decoration-color: #00d7ff\">None</span>, <span style=\"color: #00af00; text-decoration-color: #00af00\">64</span>)                      │                 <span style=\"color: #00af00; text-decoration-color: #00af00\">0</span> │\n",
       "├────────────────────────────────────────────┼─────────────────────────────────┼───────────────────┤\n",
       "│ output (<span style=\"color: #0087ff; text-decoration-color: #0087ff\">Dense</span>)                             │ (<span style=\"color: #00d7ff; text-decoration-color: #00d7ff\">None</span>, <span style=\"color: #00af00; text-decoration-color: #00af00\">3</span>)                       │               <span style=\"color: #00af00; text-decoration-color: #00af00\">195</span> │\n",
       "└────────────────────────────────────────────┴─────────────────────────────────┴───────────────────┘\n",
       "</pre>\n"
      ],
      "text/plain": [
       "┏━━━━━━━━━━━━━━━━━━━━━━━━━━━━━━━━━━━━━━━━━━━━┳━━━━━━━━━━━━━━━━━━━━━━━━━━━━━━━━━┳━━━━━━━━━━━━━━━━━━━┓\n",
       "┃\u001b[1m \u001b[0m\u001b[1mLayer (type)                              \u001b[0m\u001b[1m \u001b[0m┃\u001b[1m \u001b[0m\u001b[1mOutput Shape                   \u001b[0m\u001b[1m \u001b[0m┃\u001b[1m \u001b[0m\u001b[1m          Param #\u001b[0m\u001b[1m \u001b[0m┃\n",
       "┡━━━━━━━━━━━━━━━━━━━━━━━━━━━━━━━━━━━━━━━━━━━━╇━━━━━━━━━━━━━━━━━━━━━━━━━━━━━━━━━╇━━━━━━━━━━━━━━━━━━━┩\n",
       "│ input_layer (\u001b[38;5;33mInputLayer\u001b[0m)                   │ (\u001b[38;5;45mNone\u001b[0m, \u001b[38;5;34m100\u001b[0m)                     │                 \u001b[38;5;34m0\u001b[0m │\n",
       "├────────────────────────────────────────────┼─────────────────────────────────┼───────────────────┤\n",
       "│ embedding (\u001b[38;5;33mEmbedding\u001b[0m)                      │ (\u001b[38;5;45mNone\u001b[0m, \u001b[38;5;34m100\u001b[0m, \u001b[38;5;34m128\u001b[0m)                │         \u001b[38;5;34m1,280,000\u001b[0m │\n",
       "├────────────────────────────────────────────┼─────────────────────────────────┼───────────────────┤\n",
       "│ bidirectional_1 (\u001b[38;5;33mBidirectional\u001b[0m)            │ (\u001b[38;5;45mNone\u001b[0m, \u001b[38;5;34m100\u001b[0m, \u001b[38;5;34m64\u001b[0m)                 │            \u001b[38;5;34m10,304\u001b[0m │\n",
       "├────────────────────────────────────────────┼─────────────────────────────────┼───────────────────┤\n",
       "│ bidirectional_2 (\u001b[38;5;33mBidirectional\u001b[0m)            │ (\u001b[38;5;45mNone\u001b[0m, \u001b[38;5;34m64\u001b[0m)                      │             \u001b[38;5;34m6,208\u001b[0m │\n",
       "├────────────────────────────────────────────┼─────────────────────────────────┼───────────────────┤\n",
       "│ dropout (\u001b[38;5;33mDropout\u001b[0m)                          │ (\u001b[38;5;45mNone\u001b[0m, \u001b[38;5;34m64\u001b[0m)                      │                 \u001b[38;5;34m0\u001b[0m │\n",
       "├────────────────────────────────────────────┼─────────────────────────────────┼───────────────────┤\n",
       "│ output (\u001b[38;5;33mDense\u001b[0m)                             │ (\u001b[38;5;45mNone\u001b[0m, \u001b[38;5;34m3\u001b[0m)                       │               \u001b[38;5;34m195\u001b[0m │\n",
       "└────────────────────────────────────────────┴─────────────────────────────────┴───────────────────┘\n"
      ]
     },
     "metadata": {},
     "output_type": "display_data"
    },
    {
     "data": {
      "text/html": [
       "<pre style=\"white-space:pre;overflow-x:auto;line-height:normal;font-family:Menlo,'DejaVu Sans Mono',consolas,'Courier New',monospace\"><span style=\"font-weight: bold\"> Total params: </span><span style=\"color: #00af00; text-decoration-color: #00af00\">1,296,707</span> (4.95 MB)\n",
       "</pre>\n"
      ],
      "text/plain": [
       "\u001b[1m Total params: \u001b[0m\u001b[38;5;34m1,296,707\u001b[0m (4.95 MB)\n"
      ]
     },
     "metadata": {},
     "output_type": "display_data"
    },
    {
     "data": {
      "text/html": [
       "<pre style=\"white-space:pre;overflow-x:auto;line-height:normal;font-family:Menlo,'DejaVu Sans Mono',consolas,'Courier New',monospace\"><span style=\"font-weight: bold\"> Trainable params: </span><span style=\"color: #00af00; text-decoration-color: #00af00\">1,296,707</span> (4.95 MB)\n",
       "</pre>\n"
      ],
      "text/plain": [
       "\u001b[1m Trainable params: \u001b[0m\u001b[38;5;34m1,296,707\u001b[0m (4.95 MB)\n"
      ]
     },
     "metadata": {},
     "output_type": "display_data"
    },
    {
     "data": {
      "text/html": [
       "<pre style=\"white-space:pre;overflow-x:auto;line-height:normal;font-family:Menlo,'DejaVu Sans Mono',consolas,'Courier New',monospace\"><span style=\"font-weight: bold\"> Non-trainable params: </span><span style=\"color: #00af00; text-decoration-color: #00af00\">0</span> (0.00 B)\n",
       "</pre>\n"
      ],
      "text/plain": [
       "\u001b[1m Non-trainable params: \u001b[0m\u001b[38;5;34m0\u001b[0m (0.00 B)\n"
      ]
     },
     "metadata": {},
     "output_type": "display_data"
    },
    {
     "name": "stdout",
     "output_type": "stream",
     "text": [
      "\n",
      "Memulai training model untuk 20 epoch (dengan Early Stopping patience=3)...\n",
      "Epoch 1/20\n",
      "\u001b[1m16/16\u001b[0m \u001b[32m━━━━━━━━━━━━━━━━━━━━\u001b[0m\u001b[37m\u001b[0m \u001b[1m1s\u001b[0m 29ms/step - accuracy: 0.3738 - loss: 1.1862 - val_accuracy: 0.4500 - val_loss: 1.0644\n",
      "Epoch 2/20\n",
      "\u001b[1m16/16\u001b[0m \u001b[32m━━━━━━━━━━━━━━━━━━━━\u001b[0m\u001b[37m\u001b[0m \u001b[1m0s\u001b[0m 16ms/step - accuracy: 0.6097 - loss: 0.8651 - val_accuracy: 0.4600 - val_loss: 1.0319\n",
      "Epoch 3/20\n",
      "\u001b[1m16/16\u001b[0m \u001b[32m━━━━━━━━━━━━━━━━━━━━\u001b[0m\u001b[37m\u001b[0m \u001b[1m0s\u001b[0m 17ms/step - accuracy: 0.8539 - loss: 0.5107 - val_accuracy: 0.5100 - val_loss: 1.0263\n",
      "Epoch 4/20\n",
      "\u001b[1m16/16\u001b[0m \u001b[32m━━━━━━━━━━━━━━━━━━━━\u001b[0m\u001b[37m\u001b[0m \u001b[1m0s\u001b[0m 18ms/step - accuracy: 0.9725 - loss: 0.2093 - val_accuracy: 0.4700 - val_loss: 1.1362\n",
      "Epoch 5/20\n",
      "\u001b[1m16/16\u001b[0m \u001b[32m━━━━━━━━━━━━━━━━━━━━\u001b[0m\u001b[37m\u001b[0m \u001b[1m0s\u001b[0m 18ms/step - accuracy: 0.9937 - loss: 0.0756 - val_accuracy: 0.4700 - val_loss: 1.1991\n",
      "Epoch 6/20\n",
      "\u001b[1m16/16\u001b[0m \u001b[32m━━━━━━━━━━━━━━━━━━━━\u001b[0m\u001b[37m\u001b[0m \u001b[1m0s\u001b[0m 17ms/step - accuracy: 1.0000 - loss: 0.0325 - val_accuracy: 0.4900 - val_loss: 1.2574\n",
      "Epoch 6: early stopping\n",
      "Restoring model weights from the end of the best epoch: 3.\n",
      "\n",
      "Training selesai.\n",
      "Model saved to ./weights/weights_layers2_units32_bi1.weights.h5\n"
     ]
    },
    {
     "data": {
      "image/png": "[encoded data removed]",
      "text/plain": [
       "<Figure size 640x480 with 1 Axes>"
      ]
     },
     "metadata": {},
     "output_type": "display_data"
    },
    {
     "name": "stdout",
     "output_type": "stream",
     "text": [
      "F1-score: 0.4528 → ./graph/loss_layers2_units32_bi1.png\n"
     ]
    },
    {
     "name": "stderr",
     "output_type": "stream",
     "text": [
      "2025-05-30 15:16:26.870576: E tensorflow/core/framework/node_def_util.cc:680] NodeDef mentions attribute use_unbounded_threadpool which is not in the op definition: Op<name=MapDataset; signature=input_dataset:variant, other_arguments: -> handle:variant; attr=f:func; attr=Targuments:list(type),min=0; attr=output_types:list(type),min=1; attr=output_shapes:list(shape),min=1; attr=use_inter_op_parallelism:bool,default=true; attr=preserve_cardinality:bool,default=false; attr=force_synchronous:bool,default=false; attr=metadata:string,default=\"\"> This may be expected if your graph generating binary is newer  than this binary. Unknown attributes will be ignored. NodeDef: {{node ParallelMapDatasetV2/_14}}\n",
      "2025-05-30 15:16:26.870903: E tensorflow/core/framework/node_def_util.cc:680] NodeDef mentions attribute use_unbounded_threadpool which is not in the op definition: Op<name=MapDataset; signature=input_dataset:variant, other_arguments: -> handle:variant; attr=f:func; attr=Targuments:list(type),min=0; attr=output_types:list(type),min=1; attr=output_shapes:list(shape),min=1; attr=use_inter_op_parallelism:bool,default=true; attr=preserve_cardinality:bool,default=false; attr=force_synchronous:bool,default=false; attr=metadata:string,default=\"\"> This may be expected if your graph generating binary is newer  than this binary. Unknown attributes will be ignored. NodeDef: {{node ParallelMapDatasetV2/_14}}\n",
      "2025-05-30 15:16:27.002185: I tensorflow/core/framework/local_rendezvous.cc:407] Local rendezvous is aborting with status: OUT_OF_RANGE: End of sequence\n"
     ]
    }
   ],
   "source": [
    "from matplotlib import pyplot as plt\n",
    "import numpy as np\n",
    "from sklearn.metrics import f1_score\n",
    "from util import train_rnn_model\n",
    "\n",
    "\n",
    "VOCAB_SIZE = 10000\n",
    "SEQ_LENGTH = 100\n",
    "NUM_CLASSES = train_df['label'].nunique()\n",
    "rnn_units = 32\n",
    "num_layers = 2\n",
    "bidirectional = True\n",
    "EMBEDDING_DIM = 128\n",
    "\n",
    "trained_model, training_history = train_rnn_model(\n",
    "    train_ds=train_ds,\n",
    "    val_ds=val_ds,\n",
    "    vocab_size=VOCAB_SIZE,\n",
    "    embedding_dim=EMBEDDING_DIM,\n",
    "    rnn_units=rnn_units,\n",
    "    num_classes=NUM_CLASSES,\n",
    "    sequence_length=SEQ_LENGTH,\n",
    "    bidirectional=bidirectional,\n",
    "    num_layers=num_layers,\n",
    "    epochs=20,\n",
    "    patience=3,\n",
    "    verbose=1\n",
    ")\n",
    "\n",
    "trained_model.save_weights(\n",
    "    f\"./weights/weights_layers{num_layers}_units{rnn_units}_bi{int(bidirectional)}.weights.h5\"\n",
    ")\n",
    "\n",
    "print(f\"Model saved to ./weights/weights_layers{num_layers}_units{rnn_units}_bi{int(bidirectional)}.weights.h5\")\n",
    "\n",
    "plt.figure()\n",
    "plt.plot(training_history.history['loss'], label='train loss')\n",
    "plt.plot(training_history.history['val_loss'], label='val loss')\n",
    "plt.title(f\"Loss - Layers: {num_layers}, Units: {rnn_units}, Bi: {bidirectional}\")\n",
    "plt.xlabel(\"Epoch\")\n",
    "plt.ylabel(\"Loss\")\n",
    "plt.legend()\n",
    "filename = f\"./graph/loss_layers{num_layers}_units{rnn_units}_bi{int(bidirectional)}.png\"\n",
    "plt.savefig(filename)\n",
    "plt.show()\n",
    "\n",
    "\n",
    "y_true, y_pred = [], []\n",
    "for x_batch, y_batch in val_ds:\n",
    "    preds = trained_model.predict(x_batch, verbose=0)\n",
    "    y_true.extend(y_batch.numpy())\n",
    "    y_pred.extend(np.argmax(preds, axis=1))\n",
    "f1 = f1_score(y_true, y_pred, average='macro')\n",
    "print(f\"F1-score: {f1:.4f} → {filename}\")\n",
    "\n",
    "with open(\"./f1_log.csv\", \"a\") as log_file:\n",
    "    log_file.write(f\"{num_layers},{rnn_units},{int(bidirectional)},{round(f1, 4)}\\n\")"
   ]
  }
 ],
 "metadata": {
  "kernelspec": {
   "display_name": ".venv",
   "language": "python",
   "name": "python3"
  },
  "language_info": {
   "codemirror_mode": {
    "name": "ipython",
    "version": 3
   },
   "file_extension": ".py",
   "mimetype": "text/x-python",
   "name": "python",
   "nbconvert_exporter": "python",
   "pygments_lexer": "ipython3",
   "version": "3.9.22"
  }
 },
 "nbformat": 4,
 "nbformat_minor": 5
}
